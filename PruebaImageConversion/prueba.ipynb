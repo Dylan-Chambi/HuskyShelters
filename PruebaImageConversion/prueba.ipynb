{
 "cells": [
  {
   "cell_type": "code",
   "execution_count": 1,
   "metadata": {},
   "outputs": [],
   "source": [
    "import cv2\n",
    "import numpy as np"
   ]
  },
  {
   "cell_type": "code",
   "execution_count": 2,
   "metadata": {},
   "outputs": [],
   "source": [
    "img1 = cv2.imread('perrito.jpg')\n",
    "res1 = cv2.resize(img1, dsize=(500, 500), interpolation = cv2.INTER_CUBIC)\n",
    "\n",
    "cv2.imshow('perrito.jpg', res1)\n",
    "cv2.waitKey(0)\n",
    "cv2.destroyAllWindows()\n"
   ]
  },
  {
   "cell_type": "code",
   "execution_count": 3,
   "metadata": {},
   "outputs": [],
   "source": [
    "img2 = cv2.imread('perrito.jpg')\n",
    "res2 = cv2.resize(img2, dsize=(50, 50), interpolation = cv2.INTER_AREA)\n",
    "\n",
    "cv2.imshow('perrito.jpg', res2)\n",
    "cv2.waitKey(0)\n",
    "cv2.destroyAllWindows()"
   ]
  },
  {
   "cell_type": "code",
   "execution_count": 4,
   "metadata": {},
   "outputs": [],
   "source": [
    "img3 = cv2.imread('perrito2.jpg')\n",
    "res3 = cv2.resize(img3, dsize=(500, 500), interpolation = cv2.INTER_CUBIC)\n",
    "\n",
    "cv2.imshow('perrito2.jpg', res3)\n",
    "cv2.waitKey(0)\n",
    "cv2.destroyAllWindows()"
   ]
  },
  {
   "cell_type": "code",
   "execution_count": 5,
   "metadata": {},
   "outputs": [],
   "source": [
    "img4 = cv2.imread('perrito2.jpg')\n",
    "res4 = cv2.resize(img4, dsize=(50, 50), interpolation = cv2.INTER_AREA)\n",
    "\n",
    "cv2.imshow('perrito2.jpg', res4)\n",
    "cv2.waitKey(0)\n",
    "cv2.destroyAllWindows()"
   ]
  }
 ],
 "metadata": {
  "kernelspec": {
   "display_name": "Python 3.9.1 64-bit",
   "language": "python",
   "name": "python3"
  },
  "language_info": {
   "codemirror_mode": {
    "name": "ipython",
    "version": 3
   },
   "file_extension": ".py",
   "mimetype": "text/x-python",
   "name": "python",
   "nbconvert_exporter": "python",
   "pygments_lexer": "ipython3",
   "version": "3.9.1"
  },
  "orig_nbformat": 4,
  "vscode": {
   "interpreter": {
    "hash": "01ef865fc09e1ce939951f50ba6cb8130410afdcb28970f32b7d472854d1b851"
   }
  }
 },
 "nbformat": 4,
 "nbformat_minor": 2
}
